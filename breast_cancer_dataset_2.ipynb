{
 "cells": [
  {
   "cell_type": "markdown",
   "id": "9327bf49",
   "metadata": {},
   "source": [
    "# Breast Cancer Dataset"
   ]
  },
  {
   "cell_type": "markdown",
   "id": "914b9de7",
   "metadata": {},
   "source": [
    "Step 1: Importing Libraries"
   ]
  },
  {
   "cell_type": "code",
   "execution_count": 1,
   "id": "477adc54",
   "metadata": {},
   "outputs": [],
   "source": [
    "import pandas as pd\n",
    "import numpy as np\n",
    "import sklearn\n",
    "from sklearn.model_selection import train_test_split\n",
    "from sklearn.tree import DecisionTreeClassifier\n",
    "from sklearn.model_selection import cross_val_score\n",
    "from sklearn.metrics import confusion_matrix\n",
    "import matplotlib.pyplot as plt\n",
    "import seaborn as sn\n",
    "from sklearn.metrics import plot_confusion_matrix\n",
    "from sklearn.metrics import accuracy_score\n",
    "from sklearn.metrics import classification_report\n",
    "from sklearn.metrics import silhouette_score\n",
    "from sklearn.ensemble import RandomForestClassifier\n",
    "from sklearn.preprocessing import MinMaxScaler\n",
    "from sklearn.cluster import KMeans\n",
    "from sklearn.metrics import cohen_kappa_score\n",
    "from sklearn.metrics import make_scorer"
   ]
  },
  {
   "cell_type": "markdown",
   "id": "e9764a3d",
   "metadata": {},
   "source": [
    "Step 2: Reading data from .csv file"
   ]
  },
  {
   "cell_type": "code",
   "execution_count": 2,
   "id": "ee333b9b",
   "metadata": {},
   "outputs": [],
   "source": [
    "breast_cancer_df = pd.read_csv(\"breast_cancer_2.csv\")"
   ]
  },
  {
   "cell_type": "markdown",
   "id": "1d6b6396",
   "metadata": {},
   "source": [
    "Step 3: Validating the dataset "
   ]
  },
  {
   "cell_type": "code",
   "execution_count": 3,
   "id": "d28f78dd",
   "metadata": {},
   "outputs": [
    {
     "name": "stdout",
     "output_type": "stream",
     "text": [
      "<class 'pandas.core.frame.DataFrame'>\n",
      "RangeIndex: 277 entries, 0 to 276\n",
      "Data columns (total 42 columns):\n",
      " #   Column                      Non-Null Count  Dtype\n",
      "---  ------                      --------------  -----\n",
      " 0   Unnamed: 0                  277 non-null    int64\n",
      " 1   deg-malig                   277 non-null    int64\n",
      " 2   Class_no-recurrence-events  277 non-null    int64\n",
      " 3   Class_recurrence-events     277 non-null    int64\n",
      " 4   age_20-29                   277 non-null    int64\n",
      " 5   age_30-39                   277 non-null    int64\n",
      " 6   age_40-49                   277 non-null    int64\n",
      " 7   age_50-59                   277 non-null    int64\n",
      " 8   age_60-69                   277 non-null    int64\n",
      " 9   age_70-79                   277 non-null    int64\n",
      " 10  menopause_ge40              277 non-null    int64\n",
      " 11  menopause_lt40              277 non-null    int64\n",
      " 12  menopause_premeno           277 non-null    int64\n",
      " 13  tumor-size_0-4              277 non-null    int64\n",
      " 14  tumor-size_10-14            277 non-null    int64\n",
      " 15  tumor-size_15-19            277 non-null    int64\n",
      " 16  tumor-size_20-24            277 non-null    int64\n",
      " 17  tumor-size_25-29            277 non-null    int64\n",
      " 18  tumor-size_30-34            277 non-null    int64\n",
      " 19  tumor-size_35-39            277 non-null    int64\n",
      " 20  tumor-size_40-44            277 non-null    int64\n",
      " 21  tumor-size_45-49            277 non-null    int64\n",
      " 22  tumor-size_5-9              277 non-null    int64\n",
      " 23  tumor-size_50-54            277 non-null    int64\n",
      " 24  inv-nodes_0-2               277 non-null    int64\n",
      " 25  inv-nodes_12-14             277 non-null    int64\n",
      " 26  inv-nodes_15-17             277 non-null    int64\n",
      " 27  inv-nodes_24-26             277 non-null    int64\n",
      " 28  inv-nodes_3-5               277 non-null    int64\n",
      " 29  inv-nodes_6-8               277 non-null    int64\n",
      " 30  inv-nodes_9-11              277 non-null    int64\n",
      " 31  node-caps_no                277 non-null    int64\n",
      " 32  node-caps_yes               277 non-null    int64\n",
      " 33  breast_left                 277 non-null    int64\n",
      " 34  breast_right                277 non-null    int64\n",
      " 35  breast-quad_central         277 non-null    int64\n",
      " 36  breast-quad_left_low        277 non-null    int64\n",
      " 37  breast-quad_left_up         277 non-null    int64\n",
      " 38  breast-quad_right_low       277 non-null    int64\n",
      " 39  breast-quad_right_up        277 non-null    int64\n",
      " 40  irradiat_no                 277 non-null    int64\n",
      " 41  irradiat_yes                277 non-null    int64\n",
      "dtypes: int64(42)\n",
      "memory usage: 91.0 KB\n"
     ]
    }
   ],
   "source": [
    "breast_cancer_df.info()"
   ]
  },
  {
   "cell_type": "code",
   "execution_count": 4,
   "id": "09e32064",
   "metadata": {},
   "outputs": [
    {
     "data": {
      "text/html": [
       "<div>\n",
       "<style scoped>\n",
       "    .dataframe tbody tr th:only-of-type {\n",
       "        vertical-align: middle;\n",
       "    }\n",
       "\n",
       "    .dataframe tbody tr th {\n",
       "        vertical-align: top;\n",
       "    }\n",
       "\n",
       "    .dataframe thead th {\n",
       "        text-align: right;\n",
       "    }\n",
       "</style>\n",
       "<table border=\"1\" class=\"dataframe\">\n",
       "  <thead>\n",
       "    <tr style=\"text-align: right;\">\n",
       "      <th></th>\n",
       "      <th>Unnamed: 0</th>\n",
       "      <th>deg-malig</th>\n",
       "      <th>Class_no-recurrence-events</th>\n",
       "      <th>Class_recurrence-events</th>\n",
       "      <th>age_20-29</th>\n",
       "      <th>age_30-39</th>\n",
       "      <th>age_40-49</th>\n",
       "      <th>age_50-59</th>\n",
       "      <th>age_60-69</th>\n",
       "      <th>age_70-79</th>\n",
       "      <th>...</th>\n",
       "      <th>node-caps_yes</th>\n",
       "      <th>breast_left</th>\n",
       "      <th>breast_right</th>\n",
       "      <th>breast-quad_central</th>\n",
       "      <th>breast-quad_left_low</th>\n",
       "      <th>breast-quad_left_up</th>\n",
       "      <th>breast-quad_right_low</th>\n",
       "      <th>breast-quad_right_up</th>\n",
       "      <th>irradiat_no</th>\n",
       "      <th>irradiat_yes</th>\n",
       "    </tr>\n",
       "  </thead>\n",
       "  <tbody>\n",
       "    <tr>\n",
       "      <th>count</th>\n",
       "      <td>277.00000</td>\n",
       "      <td>277.000000</td>\n",
       "      <td>277.000000</td>\n",
       "      <td>277.000000</td>\n",
       "      <td>277.000000</td>\n",
       "      <td>277.000000</td>\n",
       "      <td>277.000000</td>\n",
       "      <td>277.000000</td>\n",
       "      <td>277.000000</td>\n",
       "      <td>277.000000</td>\n",
       "      <td>...</td>\n",
       "      <td>277.000000</td>\n",
       "      <td>277.000000</td>\n",
       "      <td>277.000000</td>\n",
       "      <td>277.000000</td>\n",
       "      <td>277.000000</td>\n",
       "      <td>277.000000</td>\n",
       "      <td>277.000000</td>\n",
       "      <td>277.000000</td>\n",
       "      <td>277.000000</td>\n",
       "      <td>277.000000</td>\n",
       "    </tr>\n",
       "    <tr>\n",
       "      <th>mean</th>\n",
       "      <td>138.00000</td>\n",
       "      <td>2.057762</td>\n",
       "      <td>0.707581</td>\n",
       "      <td>0.292419</td>\n",
       "      <td>0.003610</td>\n",
       "      <td>0.129964</td>\n",
       "      <td>0.321300</td>\n",
       "      <td>0.328520</td>\n",
       "      <td>0.198556</td>\n",
       "      <td>0.018051</td>\n",
       "      <td>...</td>\n",
       "      <td>0.202166</td>\n",
       "      <td>0.523466</td>\n",
       "      <td>0.476534</td>\n",
       "      <td>0.075812</td>\n",
       "      <td>0.382671</td>\n",
       "      <td>0.339350</td>\n",
       "      <td>0.083032</td>\n",
       "      <td>0.119134</td>\n",
       "      <td>0.776173</td>\n",
       "      <td>0.223827</td>\n",
       "    </tr>\n",
       "    <tr>\n",
       "      <th>std</th>\n",
       "      <td>80.10722</td>\n",
       "      <td>0.729989</td>\n",
       "      <td>0.455697</td>\n",
       "      <td>0.455697</td>\n",
       "      <td>0.060084</td>\n",
       "      <td>0.336872</td>\n",
       "      <td>0.467821</td>\n",
       "      <td>0.470525</td>\n",
       "      <td>0.399635</td>\n",
       "      <td>0.133375</td>\n",
       "      <td>...</td>\n",
       "      <td>0.402342</td>\n",
       "      <td>0.500353</td>\n",
       "      <td>0.500353</td>\n",
       "      <td>0.265177</td>\n",
       "      <td>0.486919</td>\n",
       "      <td>0.474346</td>\n",
       "      <td>0.276431</td>\n",
       "      <td>0.324532</td>\n",
       "      <td>0.417562</td>\n",
       "      <td>0.417562</td>\n",
       "    </tr>\n",
       "    <tr>\n",
       "      <th>min</th>\n",
       "      <td>0.00000</td>\n",
       "      <td>1.000000</td>\n",
       "      <td>0.000000</td>\n",
       "      <td>0.000000</td>\n",
       "      <td>0.000000</td>\n",
       "      <td>0.000000</td>\n",
       "      <td>0.000000</td>\n",
       "      <td>0.000000</td>\n",
       "      <td>0.000000</td>\n",
       "      <td>0.000000</td>\n",
       "      <td>...</td>\n",
       "      <td>0.000000</td>\n",
       "      <td>0.000000</td>\n",
       "      <td>0.000000</td>\n",
       "      <td>0.000000</td>\n",
       "      <td>0.000000</td>\n",
       "      <td>0.000000</td>\n",
       "      <td>0.000000</td>\n",
       "      <td>0.000000</td>\n",
       "      <td>0.000000</td>\n",
       "      <td>0.000000</td>\n",
       "    </tr>\n",
       "    <tr>\n",
       "      <th>25%</th>\n",
       "      <td>69.00000</td>\n",
       "      <td>2.000000</td>\n",
       "      <td>0.000000</td>\n",
       "      <td>0.000000</td>\n",
       "      <td>0.000000</td>\n",
       "      <td>0.000000</td>\n",
       "      <td>0.000000</td>\n",
       "      <td>0.000000</td>\n",
       "      <td>0.000000</td>\n",
       "      <td>0.000000</td>\n",
       "      <td>...</td>\n",
       "      <td>0.000000</td>\n",
       "      <td>0.000000</td>\n",
       "      <td>0.000000</td>\n",
       "      <td>0.000000</td>\n",
       "      <td>0.000000</td>\n",
       "      <td>0.000000</td>\n",
       "      <td>0.000000</td>\n",
       "      <td>0.000000</td>\n",
       "      <td>1.000000</td>\n",
       "      <td>0.000000</td>\n",
       "    </tr>\n",
       "    <tr>\n",
       "      <th>50%</th>\n",
       "      <td>138.00000</td>\n",
       "      <td>2.000000</td>\n",
       "      <td>1.000000</td>\n",
       "      <td>0.000000</td>\n",
       "      <td>0.000000</td>\n",
       "      <td>0.000000</td>\n",
       "      <td>0.000000</td>\n",
       "      <td>0.000000</td>\n",
       "      <td>0.000000</td>\n",
       "      <td>0.000000</td>\n",
       "      <td>...</td>\n",
       "      <td>0.000000</td>\n",
       "      <td>1.000000</td>\n",
       "      <td>0.000000</td>\n",
       "      <td>0.000000</td>\n",
       "      <td>0.000000</td>\n",
       "      <td>0.000000</td>\n",
       "      <td>0.000000</td>\n",
       "      <td>0.000000</td>\n",
       "      <td>1.000000</td>\n",
       "      <td>0.000000</td>\n",
       "    </tr>\n",
       "    <tr>\n",
       "      <th>75%</th>\n",
       "      <td>207.00000</td>\n",
       "      <td>3.000000</td>\n",
       "      <td>1.000000</td>\n",
       "      <td>1.000000</td>\n",
       "      <td>0.000000</td>\n",
       "      <td>0.000000</td>\n",
       "      <td>1.000000</td>\n",
       "      <td>1.000000</td>\n",
       "      <td>0.000000</td>\n",
       "      <td>0.000000</td>\n",
       "      <td>...</td>\n",
       "      <td>0.000000</td>\n",
       "      <td>1.000000</td>\n",
       "      <td>1.000000</td>\n",
       "      <td>0.000000</td>\n",
       "      <td>1.000000</td>\n",
       "      <td>1.000000</td>\n",
       "      <td>0.000000</td>\n",
       "      <td>0.000000</td>\n",
       "      <td>1.000000</td>\n",
       "      <td>0.000000</td>\n",
       "    </tr>\n",
       "    <tr>\n",
       "      <th>max</th>\n",
       "      <td>276.00000</td>\n",
       "      <td>3.000000</td>\n",
       "      <td>1.000000</td>\n",
       "      <td>1.000000</td>\n",
       "      <td>1.000000</td>\n",
       "      <td>1.000000</td>\n",
       "      <td>1.000000</td>\n",
       "      <td>1.000000</td>\n",
       "      <td>1.000000</td>\n",
       "      <td>1.000000</td>\n",
       "      <td>...</td>\n",
       "      <td>1.000000</td>\n",
       "      <td>1.000000</td>\n",
       "      <td>1.000000</td>\n",
       "      <td>1.000000</td>\n",
       "      <td>1.000000</td>\n",
       "      <td>1.000000</td>\n",
       "      <td>1.000000</td>\n",
       "      <td>1.000000</td>\n",
       "      <td>1.000000</td>\n",
       "      <td>1.000000</td>\n",
       "    </tr>\n",
       "  </tbody>\n",
       "</table>\n",
       "<p>8 rows × 42 columns</p>\n",
       "</div>"
      ],
      "text/plain": [
       "       Unnamed: 0   deg-malig  Class_no-recurrence-events  \\\n",
       "count   277.00000  277.000000                  277.000000   \n",
       "mean    138.00000    2.057762                    0.707581   \n",
       "std      80.10722    0.729989                    0.455697   \n",
       "min       0.00000    1.000000                    0.000000   \n",
       "25%      69.00000    2.000000                    0.000000   \n",
       "50%     138.00000    2.000000                    1.000000   \n",
       "75%     207.00000    3.000000                    1.000000   \n",
       "max     276.00000    3.000000                    1.000000   \n",
       "\n",
       "       Class_recurrence-events   age_20-29   age_30-39   age_40-49  \\\n",
       "count               277.000000  277.000000  277.000000  277.000000   \n",
       "mean                  0.292419    0.003610    0.129964    0.321300   \n",
       "std                   0.455697    0.060084    0.336872    0.467821   \n",
       "min                   0.000000    0.000000    0.000000    0.000000   \n",
       "25%                   0.000000    0.000000    0.000000    0.000000   \n",
       "50%                   0.000000    0.000000    0.000000    0.000000   \n",
       "75%                   1.000000    0.000000    0.000000    1.000000   \n",
       "max                   1.000000    1.000000    1.000000    1.000000   \n",
       "\n",
       "        age_50-59   age_60-69   age_70-79  ...  node-caps_yes  breast_left  \\\n",
       "count  277.000000  277.000000  277.000000  ...     277.000000   277.000000   \n",
       "mean     0.328520    0.198556    0.018051  ...       0.202166     0.523466   \n",
       "std      0.470525    0.399635    0.133375  ...       0.402342     0.500353   \n",
       "min      0.000000    0.000000    0.000000  ...       0.000000     0.000000   \n",
       "25%      0.000000    0.000000    0.000000  ...       0.000000     0.000000   \n",
       "50%      0.000000    0.000000    0.000000  ...       0.000000     1.000000   \n",
       "75%      1.000000    0.000000    0.000000  ...       0.000000     1.000000   \n",
       "max      1.000000    1.000000    1.000000  ...       1.000000     1.000000   \n",
       "\n",
       "       breast_right  breast-quad_central  breast-quad_left_low  \\\n",
       "count    277.000000           277.000000            277.000000   \n",
       "mean       0.476534             0.075812              0.382671   \n",
       "std        0.500353             0.265177              0.486919   \n",
       "min        0.000000             0.000000              0.000000   \n",
       "25%        0.000000             0.000000              0.000000   \n",
       "50%        0.000000             0.000000              0.000000   \n",
       "75%        1.000000             0.000000              1.000000   \n",
       "max        1.000000             1.000000              1.000000   \n",
       "\n",
       "       breast-quad_left_up  breast-quad_right_low  breast-quad_right_up  \\\n",
       "count           277.000000             277.000000            277.000000   \n",
       "mean              0.339350               0.083032              0.119134   \n",
       "std               0.474346               0.276431              0.324532   \n",
       "min               0.000000               0.000000              0.000000   \n",
       "25%               0.000000               0.000000              0.000000   \n",
       "50%               0.000000               0.000000              0.000000   \n",
       "75%               1.000000               0.000000              0.000000   \n",
       "max               1.000000               1.000000              1.000000   \n",
       "\n",
       "       irradiat_no  irradiat_yes  \n",
       "count   277.000000    277.000000  \n",
       "mean      0.776173      0.223827  \n",
       "std       0.417562      0.417562  \n",
       "min       0.000000      0.000000  \n",
       "25%       1.000000      0.000000  \n",
       "50%       1.000000      0.000000  \n",
       "75%       1.000000      0.000000  \n",
       "max       1.000000      1.000000  \n",
       "\n",
       "[8 rows x 42 columns]"
      ]
     },
     "execution_count": 4,
     "metadata": {},
     "output_type": "execute_result"
    }
   ],
   "source": [
    "breast_cancer_df.describe()"
   ]
  },
  {
   "cell_type": "markdown",
   "id": "71be3f2c",
   "metadata": {},
   "source": [
    "Step 4: Dropping the Unnamed Columns  "
   ]
  },
  {
   "cell_type": "code",
   "execution_count": 5,
   "id": "b35ab09f",
   "metadata": {},
   "outputs": [],
   "source": [
    "breast_cancer_df =breast_cancer_df.drop('Unnamed: 0',axis=1)"
   ]
  },
  {
   "cell_type": "code",
   "execution_count": 6,
   "id": "c6cd6865",
   "metadata": {
    "scrolled": true
   },
   "outputs": [
    {
     "data": {
      "text/html": [
       "<div>\n",
       "<style scoped>\n",
       "    .dataframe tbody tr th:only-of-type {\n",
       "        vertical-align: middle;\n",
       "    }\n",
       "\n",
       "    .dataframe tbody tr th {\n",
       "        vertical-align: top;\n",
       "    }\n",
       "\n",
       "    .dataframe thead th {\n",
       "        text-align: right;\n",
       "    }\n",
       "</style>\n",
       "<table border=\"1\" class=\"dataframe\">\n",
       "  <thead>\n",
       "    <tr style=\"text-align: right;\">\n",
       "      <th></th>\n",
       "      <th>deg-malig</th>\n",
       "      <th>Class_no-recurrence-events</th>\n",
       "      <th>Class_recurrence-events</th>\n",
       "      <th>age_20-29</th>\n",
       "      <th>age_30-39</th>\n",
       "      <th>age_40-49</th>\n",
       "      <th>age_50-59</th>\n",
       "      <th>age_60-69</th>\n",
       "      <th>age_70-79</th>\n",
       "      <th>menopause_ge40</th>\n",
       "      <th>...</th>\n",
       "      <th>node-caps_yes</th>\n",
       "      <th>breast_left</th>\n",
       "      <th>breast_right</th>\n",
       "      <th>breast-quad_central</th>\n",
       "      <th>breast-quad_left_low</th>\n",
       "      <th>breast-quad_left_up</th>\n",
       "      <th>breast-quad_right_low</th>\n",
       "      <th>breast-quad_right_up</th>\n",
       "      <th>irradiat_no</th>\n",
       "      <th>irradiat_yes</th>\n",
       "    </tr>\n",
       "  </thead>\n",
       "  <tbody>\n",
       "    <tr>\n",
       "      <th>0</th>\n",
       "      <td>3</td>\n",
       "      <td>1</td>\n",
       "      <td>0</td>\n",
       "      <td>0</td>\n",
       "      <td>1</td>\n",
       "      <td>0</td>\n",
       "      <td>0</td>\n",
       "      <td>0</td>\n",
       "      <td>0</td>\n",
       "      <td>0</td>\n",
       "      <td>...</td>\n",
       "      <td>0</td>\n",
       "      <td>1</td>\n",
       "      <td>0</td>\n",
       "      <td>0</td>\n",
       "      <td>1</td>\n",
       "      <td>0</td>\n",
       "      <td>0</td>\n",
       "      <td>0</td>\n",
       "      <td>1</td>\n",
       "      <td>0</td>\n",
       "    </tr>\n",
       "    <tr>\n",
       "      <th>1</th>\n",
       "      <td>2</td>\n",
       "      <td>1</td>\n",
       "      <td>0</td>\n",
       "      <td>0</td>\n",
       "      <td>0</td>\n",
       "      <td>1</td>\n",
       "      <td>0</td>\n",
       "      <td>0</td>\n",
       "      <td>0</td>\n",
       "      <td>0</td>\n",
       "      <td>...</td>\n",
       "      <td>0</td>\n",
       "      <td>0</td>\n",
       "      <td>1</td>\n",
       "      <td>0</td>\n",
       "      <td>0</td>\n",
       "      <td>0</td>\n",
       "      <td>0</td>\n",
       "      <td>1</td>\n",
       "      <td>1</td>\n",
       "      <td>0</td>\n",
       "    </tr>\n",
       "    <tr>\n",
       "      <th>2</th>\n",
       "      <td>2</td>\n",
       "      <td>1</td>\n",
       "      <td>0</td>\n",
       "      <td>0</td>\n",
       "      <td>0</td>\n",
       "      <td>1</td>\n",
       "      <td>0</td>\n",
       "      <td>0</td>\n",
       "      <td>0</td>\n",
       "      <td>0</td>\n",
       "      <td>...</td>\n",
       "      <td>0</td>\n",
       "      <td>1</td>\n",
       "      <td>0</td>\n",
       "      <td>0</td>\n",
       "      <td>1</td>\n",
       "      <td>0</td>\n",
       "      <td>0</td>\n",
       "      <td>0</td>\n",
       "      <td>1</td>\n",
       "      <td>0</td>\n",
       "    </tr>\n",
       "    <tr>\n",
       "      <th>3</th>\n",
       "      <td>2</td>\n",
       "      <td>1</td>\n",
       "      <td>0</td>\n",
       "      <td>0</td>\n",
       "      <td>0</td>\n",
       "      <td>0</td>\n",
       "      <td>0</td>\n",
       "      <td>1</td>\n",
       "      <td>0</td>\n",
       "      <td>1</td>\n",
       "      <td>...</td>\n",
       "      <td>0</td>\n",
       "      <td>0</td>\n",
       "      <td>1</td>\n",
       "      <td>0</td>\n",
       "      <td>0</td>\n",
       "      <td>1</td>\n",
       "      <td>0</td>\n",
       "      <td>0</td>\n",
       "      <td>1</td>\n",
       "      <td>0</td>\n",
       "    </tr>\n",
       "    <tr>\n",
       "      <th>4</th>\n",
       "      <td>2</td>\n",
       "      <td>1</td>\n",
       "      <td>0</td>\n",
       "      <td>0</td>\n",
       "      <td>0</td>\n",
       "      <td>1</td>\n",
       "      <td>0</td>\n",
       "      <td>0</td>\n",
       "      <td>0</td>\n",
       "      <td>0</td>\n",
       "      <td>...</td>\n",
       "      <td>0</td>\n",
       "      <td>0</td>\n",
       "      <td>1</td>\n",
       "      <td>0</td>\n",
       "      <td>0</td>\n",
       "      <td>0</td>\n",
       "      <td>1</td>\n",
       "      <td>0</td>\n",
       "      <td>1</td>\n",
       "      <td>0</td>\n",
       "    </tr>\n",
       "  </tbody>\n",
       "</table>\n",
       "<p>5 rows × 41 columns</p>\n",
       "</div>"
      ],
      "text/plain": [
       "   deg-malig  Class_no-recurrence-events  Class_recurrence-events  age_20-29  \\\n",
       "0          3                           1                        0          0   \n",
       "1          2                           1                        0          0   \n",
       "2          2                           1                        0          0   \n",
       "3          2                           1                        0          0   \n",
       "4          2                           1                        0          0   \n",
       "\n",
       "   age_30-39  age_40-49  age_50-59  age_60-69  age_70-79  menopause_ge40  ...  \\\n",
       "0          1          0          0          0          0               0  ...   \n",
       "1          0          1          0          0          0               0  ...   \n",
       "2          0          1          0          0          0               0  ...   \n",
       "3          0          0          0          1          0               1  ...   \n",
       "4          0          1          0          0          0               0  ...   \n",
       "\n",
       "   node-caps_yes  breast_left  breast_right  breast-quad_central  \\\n",
       "0              0            1             0                    0   \n",
       "1              0            0             1                    0   \n",
       "2              0            1             0                    0   \n",
       "3              0            0             1                    0   \n",
       "4              0            0             1                    0   \n",
       "\n",
       "   breast-quad_left_low  breast-quad_left_up  breast-quad_right_low  \\\n",
       "0                     1                    0                      0   \n",
       "1                     0                    0                      0   \n",
       "2                     1                    0                      0   \n",
       "3                     0                    1                      0   \n",
       "4                     0                    0                      1   \n",
       "\n",
       "   breast-quad_right_up  irradiat_no  irradiat_yes  \n",
       "0                     0            1             0  \n",
       "1                     1            1             0  \n",
       "2                     0            1             0  \n",
       "3                     0            1             0  \n",
       "4                     0            1             0  \n",
       "\n",
       "[5 rows x 41 columns]"
      ]
     },
     "execution_count": 6,
     "metadata": {},
     "output_type": "execute_result"
    }
   ],
   "source": [
    "breast_cancer_df.head()"
   ]
  },
  {
   "cell_type": "markdown",
   "id": "11e444f1",
   "metadata": {},
   "source": [
    "Step 5: Checking the column list"
   ]
  },
  {
   "cell_type": "code",
   "execution_count": 7,
   "id": "b01bfa2b",
   "metadata": {},
   "outputs": [
    {
     "data": {
      "text/plain": [
       "Index(['deg-malig', 'Class_no-recurrence-events', 'Class_recurrence-events',\n",
       "       'age_20-29', 'age_30-39', 'age_40-49', 'age_50-59', 'age_60-69',\n",
       "       'age_70-79', 'menopause_ge40', 'menopause_lt40', 'menopause_premeno',\n",
       "       'tumor-size_0-4', 'tumor-size_10-14', 'tumor-size_15-19',\n",
       "       'tumor-size_20-24', 'tumor-size_25-29', 'tumor-size_30-34',\n",
       "       'tumor-size_35-39', 'tumor-size_40-44', 'tumor-size_45-49',\n",
       "       'tumor-size_5-9', 'tumor-size_50-54', 'inv-nodes_0-2',\n",
       "       'inv-nodes_12-14', 'inv-nodes_15-17', 'inv-nodes_24-26',\n",
       "       'inv-nodes_3-5', 'inv-nodes_6-8', 'inv-nodes_9-11', 'node-caps_no',\n",
       "       'node-caps_yes', 'breast_left', 'breast_right', 'breast-quad_central',\n",
       "       'breast-quad_left_low', 'breast-quad_left_up', 'breast-quad_right_low',\n",
       "       'breast-quad_right_up', 'irradiat_no', 'irradiat_yes'],\n",
       "      dtype='object')"
      ]
     },
     "execution_count": 7,
     "metadata": {},
     "output_type": "execute_result"
    }
   ],
   "source": [
    "columns = breast_cancer_df.columns\n",
    "columns"
   ]
  },
  {
   "cell_type": "markdown",
   "id": "db2f71ee",
   "metadata": {},
   "source": [
    "# Train and Test Dataset"
   ]
  },
  {
   "cell_type": "code",
   "execution_count": 8,
   "id": "120f7d4a",
   "metadata": {},
   "outputs": [],
   "source": [
    "X= breast_cancer_df.iloc[:,:-1]\n",
    "y= breast_cancer_df.iloc[:,-1]"
   ]
  },
  {
   "cell_type": "code",
   "execution_count": 9,
   "id": "0d6ed619",
   "metadata": {},
   "outputs": [],
   "source": [
    "from sklearn.model_selection import train_test_split\n",
    "X_train,X_test,y_train,y_test=train_test_split(X,y,test_size=0.2,random_state=100)"
   ]
  },
  {
   "cell_type": "markdown",
   "id": "c8ec46d5",
   "metadata": {},
   "source": [
    "# Model 1 : Descion tree"
   ]
  },
  {
   "cell_type": "code",
   "execution_count": 11,
   "id": "ac52d10f",
   "metadata": {},
   "outputs": [
    {
     "name": "stderr",
     "output_type": "stream",
     "text": [
      "C:\\Users\\suchi\\anaconda3\\envs\\tensor\\lib\\site-packages\\sklearn\\utils\\deprecation.py:87: FutureWarning: Function plot_confusion_matrix is deprecated; Function `plot_confusion_matrix` is deprecated in 1.0 and will be removed in 1.2. Use one of the class methods: ConfusionMatrixDisplay.from_predictions or ConfusionMatrixDisplay.from_estimator.\n",
      "  warnings.warn(msg, category=FutureWarning)\n"
     ]
    },
    {
     "name": "stdout",
     "output_type": "stream",
     "text": [
      "              precision    recall  f1-score   support\n",
      "\n",
      "           0       1.00      1.00      1.00        45\n",
      "           1       1.00      1.00      1.00        11\n",
      "\n",
      "    accuracy                           1.00        56\n",
      "   macro avg       1.00      1.00      1.00        56\n",
      "weighted avg       1.00      1.00      1.00        56\n",
      "\n"
     ]
    },
    {
     "data": {
      "image/png": "[encoded data removed]",
      "text/plain": [
       "<Figure size 432x288 with 2 Axes>"
      ]
     },
     "metadata": {
      "needs_background": "light"
     },
     "output_type": "display_data"
    }
   ],
   "source": [
    "from sklearn.tree import DecisionTreeClassifier\n",
    "from sklearn.metrics import plot_confusion_matrix\n",
    "from sklearn.metrics import classification_report\n",
    "\n",
    "clf_dt=DecisionTreeClassifier(criterion=\"entropy\", random_state=10, max_depth=2, min_samples_leaf=4)\n",
    "clf_dt.fit(X_train,y_train)\n",
    "y_predict=clf_dt.predict(X_test)\n",
    "plot_confusion_matrix(clf_dt,X_test,y_test, cmap=plt.cm.Blues)\n",
    "print(classification_report(y_test, y_predict))"
   ]
  },
  {
   "cell_type": "code",
   "execution_count": 12,
   "id": "b728c40a",
   "metadata": {},
   "outputs": [
    {
     "name": "stdout",
     "output_type": "stream",
     "text": [
      "Accuracy without cross-validation : 1.0\n",
      "[1. 1. 1. 1. 1. 1. 1. 1. 1. 1.]\n",
      "Accuracy after cross-validation : 1.0 (+/- 0.0)\n",
      "[1. 1. 1. 1. 1. 1. 1. 1. 1. 1.]\n",
      "Cohen Kappa Score after cross-validation : 1.0 (+/- 0.0)\n"
     ]
    }
   ],
   "source": [
    "from sklearn.metrics import accuracy_score\n",
    "from sklearn.model_selection import cross_val_score\n",
    "from sklearn.metrics import make_scorer\n",
    "from sklearn.metrics import cohen_kappa_score\n",
    "\n",
    "score1=accuracy_score(y_test,y_predict)\n",
    "print(\"Accuracy without cross-validation : {}\".format(score1))\n",
    "\n",
    "score2 = cross_val_score(clf_dt, X_train, y_train, cv=10)\n",
    "print(score2)\n",
    "print(\"Accuracy after cross-validation : {} (+/- {})\".format(score2.mean(),score2.std()))\n",
    "\n",
    "score3 = cross_val_score(clf_dt, X_train, y_train, cv=10,scoring=make_scorer(cohen_kappa_score))\n",
    "print(score3)\n",
    "print(\"Cohen Kappa Score after cross-validation : {} (+/- {})\".format(score3.mean(),score3.std()))"
   ]
  },
  {
   "cell_type": "markdown",
   "id": "1a2956af",
   "metadata": {},
   "source": [
    "# Model 2 : Random Forest"
   ]
  },
  {
   "cell_type": "code",
   "execution_count": 14,
   "id": "a6b3ccd4",
   "metadata": {},
   "outputs": [
    {
     "name": "stderr",
     "output_type": "stream",
     "text": [
      "C:\\Users\\suchi\\anaconda3\\envs\\tensor\\lib\\site-packages\\sklearn\\utils\\deprecation.py:87: FutureWarning: Function plot_confusion_matrix is deprecated; Function `plot_confusion_matrix` is deprecated in 1.0 and will be removed in 1.2. Use one of the class methods: ConfusionMatrixDisplay.from_predictions or ConfusionMatrixDisplay.from_estimator.\n",
      "  warnings.warn(msg, category=FutureWarning)\n"
     ]
    },
    {
     "name": "stdout",
     "output_type": "stream",
     "text": [
      "              precision    recall  f1-score   support\n",
      "\n",
      "           0       1.00      1.00      1.00        45\n",
      "           1       1.00      1.00      1.00        11\n",
      "\n",
      "    accuracy                           1.00        56\n",
      "   macro avg       1.00      1.00      1.00        56\n",
      "weighted avg       1.00      1.00      1.00        56\n",
      "\n"
     ]
    },
    {
     "data": {
      "image/png": "[encoded data removed]",
      "text/plain": [
       "<Figure size 432x288 with 2 Axes>"
      ]
     },
     "metadata": {
      "needs_background": "light"
     },
     "output_type": "display_data"
    }
   ],
   "source": [
    "from sklearn.ensemble import RandomForestClassifier\n",
    "from sklearn.metrics import plot_confusion_matrix\n",
    "\n",
    "clf_rf=RandomForestClassifier(n_jobs=2,random_state=0)\n",
    "clf_rf.fit(X_train,y_train)\n",
    "y_predict=clf_rf.predict(X_test)\n",
    "plot_confusion_matrix(clf_rf,X_test,y_test, cmap=plt.cm.Blues)\n",
    "print(classification_report(y_test, y_predict))"
   ]
  },
  {
   "cell_type": "code",
   "execution_count": 15,
   "id": "06387a8b",
   "metadata": {},
   "outputs": [
    {
     "name": "stdout",
     "output_type": "stream",
     "text": [
      "Accuracy (without cross-validation) : 1.0\n",
      "[1. 1. 1. 1. 1. 1. 1. 1. 1. 1.]\n",
      "Accuracy (after cross-validation): 1.0 (+/- 0.0)\n",
      "[1. 1. 1. 1. 1. 1. 1. 1. 1. 1.]\n",
      "Cohen Kappa Score (after cross-validation): 1.0 (+/- 0.0)\n"
     ]
    }
   ],
   "source": [
    "score1_rf=accuracy_score(y_test,y_predict)\n",
    "print(\"Accuracy (without cross-validation) : {}\".format(score1_rf))\n",
    "\n",
    "score2_rf = cross_val_score(clf_rf, X_train, y_train, cv=10)\n",
    "print(score2_rf)\n",
    "print(\"Accuracy (after cross-validation): {} (+/- {})\".format(score2_rf.mean(),score2_rf.std()))\n",
    "\n",
    "score3_rf = cross_val_score(clf_rf, X_train, y_train, cv=10,scoring=make_scorer(cohen_kappa_score))\n",
    "print(score3_rf)\n",
    "print(\"Cohen Kappa Score (after cross-validation): {} (+/- {})\".format(score3_rf.mean(),score3_rf.std()))"
   ]
  },
  {
   "cell_type": "markdown",
   "id": "4c16b109",
   "metadata": {},
   "source": [
    "# Original dataset divided into 10 bins of imbalance dataset"
   ]
  },
  {
   "cell_type": "code",
   "execution_count": 16,
   "id": "a0019c1b",
   "metadata": {},
   "outputs": [
    {
     "name": "stdout",
     "output_type": "stream",
     "text": [
      "1    196\n",
      "0     81\n",
      "Name: Class_no-recurrence-events, dtype: int64\n",
      "70.7581227436823\n"
     ]
    }
   ],
   "source": [
    "target_count=breast_cancer_df['Class_no-recurrence-events'].value_counts()\n",
    "print(target_count)\n",
    "\n",
    "imbalance_target=(target_count[1]/(target_count[0]+target_count[1]))*100\n",
    "print(imbalance_target)"
   ]
  },
  {
   "cell_type": "code",
   "execution_count": 17,
   "id": "b6f3d41e",
   "metadata": {},
   "outputs": [],
   "source": [
    "def create_bins (df,no_of_bins,orig_imbalance):\n",
    "  df_class0=df[df['Class_no-recurrence-events']==0]\n",
    "  df_class1=df[df['Class_no-recurrence-events']==1]\n",
    "\n",
    "  len0=int(len(df_class0)/no_of_bins)\n",
    "  len1=int(len(df_class1)/no_of_bins)\n",
    "\n",
    "  ind0=0\n",
    "  ind1=0\n",
    "  start0=0\n",
    "  start1=0\n",
    "\n",
    "  bins=[]\n",
    "\n",
    "  print(\"Original Imbalance in the dataset: {} %\".format(orig_imbalance))\n",
    "  for i in range(no_of_bins):\n",
    "    ind0+=len0\n",
    "    ind1+=len1\n",
    "    bin_=pd.concat([df_class1.iloc[start1:ind1,:],df_class0.iloc[start0:ind0,:]])\n",
    "    target_cnt=bin_['Class_no-recurrence-events'].value_counts()\n",
    "    imbalance=(target_cnt[1]/(target_cnt[0]+target_cnt[1]))*100\n",
    "    print(\"Class imbalance ratio in bin {} : {} %\".format(i,imbalance))\n",
    "    bins.append(bin_.values)\n",
    "    start0+=len0\n",
    "    start1+=len1\n",
    "\n",
    "  return bins"
   ]
  },
  {
   "cell_type": "code",
   "execution_count": 18,
   "id": "650a8ae7",
   "metadata": {},
   "outputs": [
    {
     "name": "stdout",
     "output_type": "stream",
     "text": [
      "Original Imbalance in the dataset: 70.7581227436823 %\n",
      "Class imbalance ratio in bin 0 : 70.37037037037037 %\n",
      "Class imbalance ratio in bin 1 : 70.37037037037037 %\n",
      "Class imbalance ratio in bin 2 : 70.37037037037037 %\n",
      "Class imbalance ratio in bin 3 : 70.37037037037037 %\n",
      "Class imbalance ratio in bin 4 : 70.37037037037037 %\n",
      "Class imbalance ratio in bin 5 : 70.37037037037037 %\n",
      "Class imbalance ratio in bin 6 : 70.37037037037037 %\n",
      "Class imbalance ratio in bin 7 : 70.37037037037037 %\n",
      "Class imbalance ratio in bin 8 : 70.37037037037037 %\n",
      "Class imbalance ratio in bin 9 : 70.37037037037037 %\n"
     ]
    }
   ],
   "source": [
    "bins= create_bins(breast_cancer_df,10, imbalance_target) #Divding the dataset into 10 bins"
   ]
  },
  {
   "cell_type": "code",
   "execution_count": 19,
   "id": "6ce3d13b",
   "metadata": {},
   "outputs": [],
   "source": [
    "model_accuracies={} #A dictionary to save the accuracies for the different permutations of the bins\n",
    "model_kappa_scores={} #A dictionary to save the cohen kappa scores for the different permutations of the bin"
   ]
  },
  {
   "cell_type": "markdown",
   "id": "d9fb830a",
   "metadata": {},
   "source": [
    "# Analyzing the number of clusters using Elbow method and Silhouette method"
   ]
  },
  {
   "cell_type": "code",
   "execution_count": 20,
   "id": "45360c12",
   "metadata": {},
   "outputs": [
    {
     "name": "stderr",
     "output_type": "stream",
     "text": [
      "C:\\Users\\suchi\\anaconda3\\envs\\tensor\\lib\\site-packages\\ipykernel_launcher.py:14: FutureWarning: arrays to stack must be passed as a \"sequence\" type such as list or tuple. Support for non-sequence iterables such as generators is deprecated as of NumPy 1.16 and will raise an error in the future.\n",
      "  \n"
     ]
    },
    {
     "data": {
      "image/png": "[encoded data removed]",
      "text/plain": [
       "<Figure size 432x288 with 1 Axes>"
      ]
     },
     "metadata": {
      "needs_background": "light"
     },
     "output_type": "display_data"
    },
    {
     "data": {
      "image/png": "[encoded data removed]",
      "text/plain": [
       "<Figure size 432x288 with 1 Axes>"
      ]
     },
     "metadata": {
      "needs_background": "light"
     },
     "output_type": "display_data"
    }
   ],
   "source": [
    "#***** CHANGE MANUALLY DURING EACH ITERATION *****#\n",
    "\n",
    "i=9 # The bin index to be left-out while training, and used only for testing \n",
    "\n",
    "#************************************************#\n",
    "\n",
    "#CREATE TESTING DATA\n",
    "\n",
    "leave_out=i #for indexing while saving the model accuracies to a dictionary\n",
    "test_data=bins[i] \n",
    "\n",
    "#CREATE TRAINING DATA\n",
    "\n",
    "compile9=np.vstack((bins[j] for j in range(10) if j!=i )) #combining data from all other bins except the left-out one\n",
    "data=pd.DataFrame(compile9)\n",
    "data.columns=columns\n",
    "mms=MinMaxScaler() #normalizing the data\n",
    "mms.fit(data)\n",
    "data_transformed=mms.transform(data)\n",
    "\n",
    "#ELBOW METHOD TO IDENTIFY THE NUMBER OF CLUSTERS\n",
    "\n",
    "Sum_of_squared_distances = []\n",
    "K = range(2,11)\n",
    "for k in K:\n",
    "    km = KMeans(n_clusters=k,random_state=1)\n",
    "    km = km.fit(data_transformed)\n",
    "    Sum_of_squared_distances.append(km.inertia_)\n",
    "plt.plot(K, Sum_of_squared_distances, 'bx-')\n",
    "plt.xlabel('k')\n",
    "plt.ylabel('Sum_of_squared_distances')\n",
    "plt.title('Elbow Method For Optimal k')\n",
    "plt.show()\n",
    "\n",
    "#SILHOUETTE METHOD TO IDENTIFY THE NUMBER OF CLUSTERS\n",
    "K = range(2,11)\n",
    "no_of_clusters=[]\n",
    "silhouette_scores=[]\n",
    "\n",
    "for k in K:\n",
    "    km = KMeans(n_clusters=k,random_state=1)\n",
    "    preds=km.fit_predict(data_transformed)\n",
    "    centers=km.cluster_centers_\n",
    "\n",
    "    score=silhouette_score(data_transformed,preds)\n",
    "\n",
    "    no_of_clusters.append(k)\n",
    "    silhouette_scores.append(score)\n",
    "\n",
    "plt.ylabel(\"Silhouette coefficient\")\n",
    "plt.xlabel(\"k\")\n",
    "plt.title('Silhouette Method For Optimal k')\n",
    "plt.bar(no_of_clusters,silhouette_scores)\n",
    "plt.show()"
   ]
  },
  {
   "cell_type": "code",
   "execution_count": 21,
   "id": "7fde1a77",
   "metadata": {},
   "outputs": [
    {
     "name": "stderr",
     "output_type": "stream",
     "text": [
      "C:\\Users\\suchi\\anaconda3\\envs\\tensor\\lib\\site-packages\\ipykernel_launcher.py:61: SettingWithCopyWarning: \n",
      "A value is trying to be set on a copy of a slice from a DataFrame.\n",
      "Try using .loc[row_indexer,col_indexer] = value instead\n",
      "\n",
      "See the caveats in the documentation: https://pandas.pydata.org/pandas-docs/stable/user_guide/indexing.html#returning-a-view-versus-a-copy\n",
      "C:\\Users\\suchi\\anaconda3\\envs\\tensor\\lib\\site-packages\\ipykernel_launcher.py:61: SettingWithCopyWarning: \n",
      "A value is trying to be set on a copy of a slice from a DataFrame.\n",
      "Try using .loc[row_indexer,col_indexer] = value instead\n",
      "\n",
      "See the caveats in the documentation: https://pandas.pydata.org/pandas-docs/stable/user_guide/indexing.html#returning-a-view-versus-a-copy\n",
      "C:\\Users\\suchi\\anaconda3\\envs\\tensor\\lib\\site-packages\\ipykernel_launcher.py:61: SettingWithCopyWarning: \n",
      "A value is trying to be set on a copy of a slice from a DataFrame.\n",
      "Try using .loc[row_indexer,col_indexer] = value instead\n",
      "\n",
      "See the caveats in the documentation: https://pandas.pydata.org/pandas-docs/stable/user_guide/indexing.html#returning-a-view-versus-a-copy\n",
      "C:\\Users\\suchi\\anaconda3\\envs\\tensor\\lib\\site-packages\\ipykernel_launcher.py:61: SettingWithCopyWarning: \n",
      "A value is trying to be set on a copy of a slice from a DataFrame.\n",
      "Try using .loc[row_indexer,col_indexer] = value instead\n",
      "\n",
      "See the caveats in the documentation: https://pandas.pydata.org/pandas-docs/stable/user_guide/indexing.html#returning-a-view-versus-a-copy\n",
      "C:\\Users\\suchi\\anaconda3\\envs\\tensor\\lib\\site-packages\\ipykernel_launcher.py:61: SettingWithCopyWarning: \n",
      "A value is trying to be set on a copy of a slice from a DataFrame.\n",
      "Try using .loc[row_indexer,col_indexer] = value instead\n",
      "\n",
      "See the caveats in the documentation: https://pandas.pydata.org/pandas-docs/stable/user_guide/indexing.html#returning-a-view-versus-a-copy\n",
      "C:\\Users\\suchi\\anaconda3\\envs\\tensor\\lib\\site-packages\\ipykernel_launcher.py:61: SettingWithCopyWarning: \n",
      "A value is trying to be set on a copy of a slice from a DataFrame.\n",
      "Try using .loc[row_indexer,col_indexer] = value instead\n",
      "\n",
      "See the caveats in the documentation: https://pandas.pydata.org/pandas-docs/stable/user_guide/indexing.html#returning-a-view-versus-a-copy\n"
     ]
    },
    {
     "name": "stdout",
     "output_type": "stream",
     "text": [
      "Accuracy : 0.8888888888888888\n"
     ]
    },
    {
     "name": "stderr",
     "output_type": "stream",
     "text": [
      "C:\\Users\\suchi\\anaconda3\\envs\\tensor\\lib\\site-packages\\ipykernel_launcher.py:61: SettingWithCopyWarning: \n",
      "A value is trying to be set on a copy of a slice from a DataFrame.\n",
      "Try using .loc[row_indexer,col_indexer] = value instead\n",
      "\n",
      "See the caveats in the documentation: https://pandas.pydata.org/pandas-docs/stable/user_guide/indexing.html#returning-a-view-versus-a-copy\n"
     ]
    }
   ],
   "source": [
    "#*****CHANGE MANUALLY DURING EACH ITERATION*****#\n",
    "\n",
    "num_of_clusters=8 #Decided after looking at the plots from the previous cell \n",
    "\n",
    "#***********************************************#\n",
    "\n",
    "min_class=0 # The minority class label\n",
    "max_class=1 # The majority class label\n",
    "\n",
    "#***********************************************#\n",
    "\n",
    "#FITTING A K-MEANS CLUSTERING MODEL\n",
    "\n",
    "kmeans = KMeans(n_clusters=num_of_clusters, random_state=1)\n",
    "kmeans.fit_predict(data_transformed)\n",
    "\n",
    "cluster_df=data\n",
    "cluster_df[\"Cluster label\"]=kmeans.labels_\n",
    "cols=list(cluster_df.columns)\n",
    "cols= cols[:-2] + [cols[-1]] + [cols[-2]]\n",
    "cluster_df=cluster_df[cols]\n",
    "  \n",
    "g=globals() #To facilitate naming dynamically\n",
    "\n",
    "#Filtering out the data belonging to each cluster\n",
    "\n",
    "for i in range(0,num_of_clusters):\n",
    "  g['cluster_{}'.format(i)] = cluster_df[cluster_df['Cluster label']==i]\n",
    "\n",
    "#Checking for number of entries from minority class in each cluster\n",
    "\n",
    "for i in range(0,num_of_clusters):\n",
    "  g['clus_{}_class_{}'.format(i,min_class)] = g['cluster_{}'.format(i)][g['cluster_{}'.format(i)]['Class_no-recurrence-events']==min_class]\n",
    "  if (len(g['clus_{}_class_{}'.format(i,min_class)])!=0):\n",
    "    g['X{}'.format(i)]=g['cluster_{}'.format(i)].iloc[:,:-1]\n",
    "    g['y{}'.format(i)]=g['cluster_{}'.format(i)].iloc[:,-1]\n",
    "    g['clf_{}'.format(i)]=RandomForestClassifier(n_jobs=2,random_state=0)\n",
    "    g['clf_{}'.format(i)].fit(g['X{}'.format(i)],g['y{}'.format(i)])\n",
    "    g['Class_val_{}{}'.format(i,min_class)]=min_class\n",
    "  else:\n",
    "    g['Class_val_{}{}'.format(i,min_class)]=max_class\n",
    "  \n",
    "#CREATING THE TEST DATA\n",
    "\n",
    "test_cluster=pd.DataFrame(test_data)\n",
    "test_cluster.columns=breast_cancer_df.columns\n",
    "test_cluster[\"Cluster label\"]=kmeans.predict(test_data)\n",
    "cols=list(test_cluster.columns)\n",
    "cols= cols[:-2] + [cols[-1]] + [cols[-2]]\n",
    "test_cluster=test_cluster[cols]\n",
    "\n",
    "#Dividing the results based on cluster label, to predict the class labels of the corresponding entries\n",
    "\n",
    "for i in range(0,num_of_clusters):\n",
    "  g['test_{}'.format(i)] = test_cluster[test_cluster['Cluster label']==i]\n",
    "  if(len(g['test_{}'.format(i)])!=0):\n",
    "    if(g['Class_val_{}{}'.format(i,min_class)]==min_class): #Checking if the dataset contains values from both the classes\n",
    "      g['X_test{}'.format(i)]=g['test_{}'.format(i)].iloc[:,:-1]\n",
    "      g['y_test{}'.format(i)]=g['test_{}'.format(i)].iloc[:,-1]\n",
    "      g['y_pred{}'.format(i)]=g['clf_{}'.format(i)].predict(g['X_test{}'.format(i)])\n",
    "      g['test_{}'.format(i)]['Predicted class']=g['y_pred{}'.format(i)]\n",
    "    else:\n",
    "      g['y_pred{}'.format(i)]=np.full(len(g['test_{}'.format(i)]),max_class)\n",
    "      g['test_{}'.format(i)]['Predicted class']=g['y_pred{}'.format(i)]\n",
    "\n",
    "#Compiling the results and predictions for performance checking\n",
    "\n",
    "final_test=pd.concat([g['test_{}'.format(i)] for i in range(0,num_of_clusters) if(len(g['test_{}'.format(i)])!=0)])\n",
    "trial_accuracy=accuracy_score(final_test.iloc[:,-2],final_test.iloc[:,-1]) #computing accuracy based on real class labels\n",
    "print(\"Accuracy : {}\".format(trial_accuracy))\n",
    "\n",
    "model_accuracies[leave_out]=trial_accuracy #Saving the accuracy for this permutation\n",
    "trial_kappa =cohen_kappa_score(y_test, y_predict, labels=None, weights=None)\n",
    "model_kappa_scores[leave_out]=trial_kappa #Saving the cohen kappa score for this permutation"
   ]
  },
  {
   "cell_type": "code",
   "execution_count": 22,
   "id": "d7781036",
   "metadata": {},
   "outputs": [
    {
     "data": {
      "text/plain": [
       "{9: 0.8888888888888888}"
      ]
     },
     "execution_count": 22,
     "metadata": {},
     "output_type": "execute_result"
    }
   ],
   "source": [
    "model_accuracies"
   ]
  },
  {
   "cell_type": "code",
   "execution_count": 23,
   "id": "62b8836f",
   "metadata": {},
   "outputs": [
    {
     "data": {
      "text/plain": [
       "{9: 1.0}"
      ]
     },
     "execution_count": 23,
     "metadata": {},
     "output_type": "execute_result"
    }
   ],
   "source": [
    "model_kappa_scores"
   ]
  },
  {
   "cell_type": "code",
   "execution_count": 24,
   "id": "825896e6",
   "metadata": {},
   "outputs": [
    {
     "data": {
      "text/plain": [
       "array([0.88888889])"
      ]
     },
     "execution_count": 24,
     "metadata": {},
     "output_type": "execute_result"
    }
   ],
   "source": [
    "acc_values=np.array([model_accuracies[k] for k in model_accuracies])\n",
    "acc_values"
   ]
  },
  {
   "cell_type": "code",
   "execution_count": 25,
   "id": "635bb893",
   "metadata": {},
   "outputs": [
    {
     "name": "stdout",
     "output_type": "stream",
     "text": [
      "Decision Tree model:\n",
      "Accuracy (after cross-validation): 1.0 (+/- 0.0)\n",
      "Random Forest model:\n",
      "Accuracy (after cross-validation): 1.0 (+/- 0.0)\n",
      "New model:\n",
      "Accuracy : 0.8888888888888888 (+/- 0.0)\n"
     ]
    }
   ],
   "source": [
    "print(\"Decision Tree model:\")\n",
    "print(\"Accuracy (after cross-validation): {} (+/- {})\".format(score2.mean(),score2.std()))\n",
    "print(\"Random Forest model:\")\n",
    "print(\"Accuracy (after cross-validation): {} (+/- {})\".format(score2_rf.mean(),score2_rf.std()))\n",
    "print(\"New model:\")\n",
    "print(\"Accuracy : {} (+/- {})\".format(acc_values.mean(),acc_values.std()))"
   ]
  },
  {
   "cell_type": "code",
   "execution_count": 26,
   "id": "0b9e9796",
   "metadata": {},
   "outputs": [
    {
     "data": {
      "text/plain": [
       "array([1.])"
      ]
     },
     "execution_count": 26,
     "metadata": {},
     "output_type": "execute_result"
    }
   ],
   "source": [
    "kappa_values=np.array([model_kappa_scores[k] for k in model_kappa_scores])\n",
    "kappa_values"
   ]
  },
  {
   "cell_type": "code",
   "execution_count": 27,
   "id": "6366fff5",
   "metadata": {},
   "outputs": [
    {
     "name": "stdout",
     "output_type": "stream",
     "text": [
      "Kappa Scores:\n",
      "Decision Tree: : 1.0 (+/- 0.0)\n",
      "Random Forest: : 1.0 (+/- 0.0)\n",
      "New Model: : 1.0 (+/- 0.0)\n"
     ]
    }
   ],
   "source": [
    "print(\"Kappa Scores:\")\n",
    "print(\"Decision Tree: : {} (+/- {})\".format(score3.mean(),score3.std()))\n",
    "print(\"Random Forest: : {} (+/- {})\".format(score3_rf.mean(),score3_rf.std()))\n",
    "print(\"New Model: : {} (+/- {})\".format(kappa_values.mean(),kappa_values.std()))"
   ]
  },
  {
   "cell_type": "markdown",
   "id": "968e365b",
   "metadata": {},
   "source": [
    "# Permutation Tests"
   ]
  },
  {
   "cell_type": "code",
   "execution_count": 28,
   "id": "0871faef",
   "metadata": {},
   "outputs": [],
   "source": [
    "def calc_pvalue(iterations,data_1,data_2,t_obs):\n",
    "  concat = np.concatenate((data_1,data_2))\n",
    "  cnt=0\n",
    "  for i in range(0,iterations):\n",
    "    perm = np.random.permutation(concat)\n",
    "    pcurrent = perm[:len(data_1)]\n",
    "    pnew = perm[len(data_1):]\n",
    "    mean_perm_current=pcurrent.mean()\n",
    "    mean_perm_new=pnew.mean()\n",
    "    t_perm=mean_perm_new-mean_perm_current\n",
    "    if(t_perm>t_obs):\n",
    "      cnt+=1\n",
    "  p_value=cnt/iterations\n",
    "  return p_value"
   ]
  },
  {
   "cell_type": "code",
   "execution_count": 29,
   "id": "463f4e4d",
   "metadata": {},
   "outputs": [
    {
     "name": "stdout",
     "output_type": "stream",
     "text": [
      "Accuracy comparison between Decision Tree and new method:\n",
      "p-value: 0.99858\n",
      "Accuracy comparison between Random Forest and new method:\n",
      "p-value: 0.99846\n",
      "Kappa comparison between Decision Tree and new method:\n",
      "p-value: 0.0\n",
      "Kappa comparison between Random Forest and new method:\n",
      "p-value: 0.50132\n"
     ]
    }
   ],
   "source": [
    "acc_old_1 = np.array([1,1,1,1,1,1,1,1,1,1])\n",
    "kappa_old_1=np.array([1,1,1,1,1,1,1,1,1,1])\n",
    "acc_old_2=np.array([1,1,1,1,1,1,1,1,1,1])\n",
    "kappa_old_2=np.array([1,1,1,1,1,1,1,1,1,1])\n",
    "\n",
    "acc_new=np.array([0.96296296, 0.92592593, 1.        , 0.96296296, 0.92592593, 1.        , 1.        , 0.88888889, 0.88888889, 0.96296296])\n",
    "kappa_new=np.array([1., 1., 1., 1., 1., 1., 1., 1., 1., 1.])\n",
    "\n",
    "#Accuracy: DT and new\n",
    "mean_old=acc_old_1.mean()\n",
    "mean_new=acc_new.mean()\n",
    "t_obs=mean_new-mean_old\n",
    "p_val=calc_pvalue(50000,acc_old_1,acc_new,t_obs)\n",
    "print(\"Accuracy comparison between Decision Tree and new method:\")\n",
    "print(\"p-value: {}\".format(p_val))\n",
    "\n",
    "#Accuracy: RF and new\n",
    "mean_old=acc_old_2.mean()\n",
    "mean_new=acc_new.mean()\n",
    "t_obs=mean_new-mean_old\n",
    "p_val=calc_pvalue(50000,acc_old_2,acc_new,t_obs)\n",
    "print(\"Accuracy comparison between Random Forest and new method:\")\n",
    "print(\"p-value: {}\".format(p_val))\n",
    "\n",
    "#Kappa: DT and new\n",
    "mean_old=kappa_old_1.mean()\n",
    "mean_new=kappa_new.mean()\n",
    "t_obs=mean_new-mean_old\n",
    "p_val=calc_pvalue(50000,kappa_old_1,kappa_new,t_obs)\n",
    "print(\"Kappa comparison between Decision Tree and new method:\")\n",
    "print(\"p-value: {}\".format(p_val))\n",
    "\n",
    "#Kappa: RF and new\n",
    "mean_old=kappa_old_2.mean()\n",
    "mean_new=kappa_new.mean()\n",
    "t_obs=mean_new-mean_old\n",
    "p_val=calc_pvalue(50000,kappa_old_2,acc_new,t_obs)\n",
    "print(\"Kappa comparison between Random Forest and new method:\")\n",
    "print(\"p-value: {}\".format(p_val))\n"
   ]
  },
  {
   "cell_type": "code",
   "execution_count": null,
   "id": "ea6ec977",
   "metadata": {},
   "outputs": [],
   "source": []
  }
 ],
 "metadata": {
  "kernelspec": {
   "display_name": "Python 3 (ipykernel)",
   "language": "python",
   "name": "python3"
  },
  "language_info": {
   "codemirror_mode": {
    "name": "ipython",
    "version": 3
   },
   "file_extension": ".py",
   "mimetype": "text/x-python",
   "name": "python",
   "nbconvert_exporter": "python",
   "pygments_lexer": "ipython3",
   "version": "3.7.13"
  }
 },
 "nbformat": 4,
 "nbformat_minor": 5
}
